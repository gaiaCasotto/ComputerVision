{
 "cells": [
  {
   "cell_type": "code",
   "execution_count": 3,
   "metadata": {},
   "outputs": [],
   "source": [
    "#exams and quizzes!!\n",
    "import numpy as np\n",
    "import cv2 as cv\n",
    "import math\n",
    "import matplotlib.pyplot as plt\n",
    "from util_functions import box3d, pi, invPi\n",
    "from util_functions import box3d, pi, invPi, projectpoints, projectpoints_dist, distort, undistort_image, camera_intrinsic, hest, normalize2d, hest_from_image\n"
   ]
  },
  {
   "cell_type": "markdown",
   "metadata": {},
   "source": [
    "#exam 2023, question 1:\n",
    "\n",
    "A camera has focal length 1200, principal point (400, 350), α = 1, β = 0, radial distortion parameters k3 = 0.01 and k5 = 0.04.\n",
    "\n",
    "What is the camera matrix?"
   ]
  },
  {
   "cell_type": "code",
   "execution_count": 4,
   "metadata": {},
   "outputs": [],
   "source": [
    "f = 1200\n",
    "deltax = 400\n",
    "deltay = 350\n",
    "alpha = 1\n",
    "beta = 0\n",
    "\n",
    "k3 = 0.01\n",
    "k5 = 0.04\n",
    "\n",
    "K = camera_intrinsic(f, (deltax, deltay), alpha, beta)\n",
    "k"
   ]
  }
 ],
 "metadata": {
  "kernelspec": {
   "display_name": "Python 3",
   "language": "python",
   "name": "python3"
  },
  "language_info": {
   "codemirror_mode": {
    "name": "ipython",
    "version": 3
   },
   "file_extension": ".py",
   "mimetype": "text/x-python",
   "name": "python",
   "nbconvert_exporter": "python",
   "pygments_lexer": "ipython3",
   "version": "3.10.6"
  },
  "orig_nbformat": 4
 },
 "nbformat": 4,
 "nbformat_minor": 2
}
