{
 "cells": [
  {
   "cell_type": "code",
   "execution_count": 1,
   "metadata": {},
   "outputs": [],
   "source": [
    "import numpy as np\n",
    "from scipy.spatial.transform import Rotation\n",
    "import matplotlib.pyplot as plt\n",
    "from util_functions import (\n",
    "    camera_intrinsic,\n",
    "    projection_matrix,\n",
    "    projectpoints,\n",
    "    normalize2d,\n",
    "    crossProduct,\n",
    "    pi,\n",
    "    invPi\n",
    ")\n",
    "\n",
    "np.set_printoptions(precision=4)"
   ]
  },
  {
   "cell_type": "code",
   "execution_count": 2,
   "metadata": {},
   "outputs": [
    {
     "data": {
      "text/plain": [
       "array([[1000.,    0.,  960.],\n",
       "       [   0., 1000.,  540.],\n",
       "       [   0.,    0.,    1.]])"
      ]
     },
     "execution_count": 2,
     "metadata": {},
     "output_type": "execute_result"
    }
   ],
   "source": [
    "# Ex 4.1\n",
    "# Find projection matrix and projections\n",
    "f = 1000\n",
    "resolution = (1920, 1080)\n",
    "principal_point = (resolution[0] / 2, resolution[1] / 2)\n",
    "K = camera_intrinsic(f, principal_point)\n",
    "K"
   ]
  },
  {
   "cell_type": "code",
   "execution_count": 3,
   "metadata": {},
   "outputs": [
    {
     "name": "stdout",
     "output_type": "stream",
     "text": [
      "[[ 7.0711e+02 -7.0711e+02  9.6000e+02  9.6000e+03]\n",
      " [ 7.0711e+02  7.0711e+02  5.4000e+02  5.4000e+03]\n",
      " [ 0.0000e+00  0.0000e+00  1.0000e+00  1.0000e+01]]\n"
     ]
    }
   ],
   "source": [
    "R = np.array(\n",
    "    [\n",
    "        [np.sqrt(0.5), -np.sqrt(0.5), 0],\n",
    "        [np.sqrt(0.5), np.sqrt(0.5), 0],\n",
    "        [0, 0, 1],\n",
    "    ]\n",
    ")\n",
    "t = np.array([[0, 0, 10]]).T\n",
    "cam_pos = np.hstack((R,t))\n",
    "P = projection_matrix(K, R, t)\n",
    "print(P)"
   ]
  },
  {
   "cell_type": "code",
   "execution_count": 4,
   "metadata": {},
   "outputs": [
    {
     "data": {
      "text/plain": [
       "array([[0, 0, 0, 0, 1, 1, 1, 1],\n",
       "       [0, 0, 1, 1, 0, 0, 1, 1],\n",
       "       [0, 1, 0, 1, 0, 1, 0, 1]])"
      ]
     },
     "execution_count": 4,
     "metadata": {},
     "output_type": "execute_result"
    }
   ],
   "source": [
    "Q = np.array(\n",
    "    [(x, y, z) for x in [0, 1] for y in [0, 1] for z in [0, 1]]\n",
    ").T  # 3 x n\n",
    "Q"
   ]
  },
  {
   "cell_type": "code",
   "execution_count": 5,
   "metadata": {},
   "outputs": [
    {
     "name": "stdout",
     "output_type": "stream",
     "text": [
      "[[ 960.     960.     889.289  895.718 1030.711 1024.282  960.     960.   ]\n",
      " [ 540.     540.     610.711  604.282  610.711  604.282  681.421  668.565]]\n"
     ]
    }
   ],
   "source": [
    "\n",
    "q = projectpoints(K, cam_pos, Q)\n",
    "with np.printoptions(precision=3):\n",
    "    print(q)"
   ]
  },
  {
   "cell_type": "code",
   "execution_count": 6,
   "metadata": {},
   "outputs": [],
   "source": [
    "# Ex 4.2\n",
    "# Estimate projection matrix\n",
    "def pest(Q, q, normalize=False):\n",
    "    \"\"\"\n",
    "    Estimate projection matrix using direct linear transformation.\n",
    "\n",
    "    Args:\n",
    "        Q : 3 x n array of 3D points\n",
    "        q : 2 x n array of 2D points\n",
    "        normalize : bool, whether to normalize the 2D points\n",
    "\n",
    "    Returns:\n",
    "        P : 3 x 4 projection matrix\n",
    "    \"\"\"\n",
    "    if Q.shape[0] != 3:\n",
    "        raise ValueError(\"Q must be a 3 x n array of 3D points\")\n",
    "    if q.shape[0] != 2:\n",
    "        raise ValueError(\"q must be a 2 x n array of 2D points\")\n",
    "\n",
    "    if normalize:\n",
    "        q, T = normalize2d(q)\n",
    "\n",
    "    q = pi(q)  # 3 x n\n",
    "    Q = pi(Q)  # 4 x n\n",
    "    n = Q.shape[1]  # number of points\n",
    "    B = []\n",
    "    for i in range(n):\n",
    "        Qi = Q[:, i]\n",
    "        qi = q[:, i]\n",
    "        # Xi, Yi, Zi = Qi\n",
    "        # xi, yi, _ = qi\n",
    "        # Bi = np.array([[0, -Xi, Xi*yi, 0, -Yi, Yi*yi, 0, -Zi, Zi*yi, 0, -1, yi],\n",
    "        #                [Xi, 0, -Xi*xi, Yi, 0, -Yi*xi, Zi, 0, -Zi*xi, 1, 0, -xi],\n",
    "        #                [-Xi*yi, Xi*xi, 0, -Yi*yi, Yi*xi, 0, -Zi*yi, Zi*xi, 0, -yi, xi, 0]])\n",
    "        Bi = np.kron(Qi, crossProduct(qi))\n",
    "        B.append(Bi)\n",
    "    B = np.array(B).reshape(3 * n, 12)\n",
    "    U, S, Vt = np.linalg.svd(B)\n",
    "    P = Vt[-1].reshape(4, 3)\n",
    "    P = P.T\n",
    "    if normalize:\n",
    "        P = np.linalg.inv(T) @ P\n",
    "    return P"
   ]
  },
  {
   "cell_type": "code",
   "execution_count": 7,
   "metadata": {},
   "outputs": [
    {
     "name": "stdout",
     "output_type": "stream",
     "text": [
      "Estimated P:\n",
      " [[-6.3364e-02  6.3364e-02 -8.6026e-02 -8.6026e-01]\n",
      " [-6.3364e-02 -6.3364e-02 -4.8389e-02 -4.8389e-01]\n",
      " [ 1.1858e-17 -1.5801e-16 -8.9610e-05 -8.9610e-04]]\n"
     ]
    }
   ],
   "source": [
    "P_est = pest(Q, q)\n",
    "print(\"Estimated P:\\n\", P_est)"
   ]
  },
  {
   "cell_type": "code",
   "execution_count": 8,
   "metadata": {},
   "outputs": [],
   "source": [
    "def compute_rmse(q_true, q_est):\n",
    "    \"\"\"\n",
    "    Returns the root mean square error between the true and estimated 2D points.\n",
    "\n",
    "    Args:\n",
    "        q_true: 2 x n array of true 2D points\n",
    "        q_est: 2 x n array of estimated 2D points\n",
    "    \"\"\"\n",
    "    if q_true.shape[0] != 2 or q_est.shape[0] != 2:\n",
    "        raise ValueError(\"q_true and q_est must be 2 in the first dimension\")\n",
    "    if q_true.shape[1] != q_est.shape[1]:\n",
    "        raise ValueError(\"q_true and q_est must have the same number of points\")\n",
    "    se = (q_est - q_true) ** 2\n",
    "    return np.sqrt(np.mean((se)))"
   ]
  },
  {
   "cell_type": "code",
   "execution_count": 9,
   "metadata": {},
   "outputs": [
    {
     "name": "stdout",
     "output_type": "stream",
     "text": [
      "RMSE:  1.1629671387309195e-10\n"
     ]
    }
   ],
   "source": [
    "# Compute reprojection error\n",
    "q_est = P_est @ pi(Q)\n",
    "rmse = compute_rmse(q, invPi(q_est))\n",
    "print(\"RMSE: \", rmse)  # should be close to 0"
   ]
  },
  {
   "cell_type": "code",
   "execution_count": 10,
   "metadata": {},
   "outputs": [
    {
     "name": "stdout",
     "output_type": "stream",
     "text": [
      "RMSE:  1.0634429903501374e-13\n"
     ]
    }
   ],
   "source": [
    "# Normalize points before estimating P\n",
    "P_est = pest(Q, q, normalize=True)\n",
    "q_est = P_est @ pi(Q)\n",
    "\n",
    "rmse = compute_rmse(q, invPi(q_est))\n",
    "print(\"RMSE: \", rmse)\n",
    "# Normalizing the points should improve reprojection error slightly."
   ]
  },
  {
   "cell_type": "code",
   "execution_count": 11,
   "metadata": {},
   "outputs": [],
   "source": [
    "# Ex 4.3\n",
    "# Simulate 3D points on a checkerboard\n",
    "def checkerboard_points(n, m):\n",
    "    \"\"\"\n",
    "    Generate 3D points of a checkerboard with n x m squares.\n",
    "\n",
    "    Returns:\n",
    "        points : 3 x (n*m) array of 3D points\n",
    "    \"\"\"\n",
    "    points = np.array(\n",
    "        [\n",
    "            (i - (n - 1) / 2, j - (m - 1) / 2, 0)\n",
    "            for i in range(n)\n",
    "            for j in range(m)\n",
    "        ]\n",
    "    ).T\n",
    "    return points"
   ]
  },
  {
   "cell_type": "code",
   "execution_count": 12,
   "metadata": {},
   "outputs": [
    {
     "name": "stdout",
     "output_type": "stream",
     "text": [
      "(3, 20)\n",
      "[[-2.  -2.  -2.  -2.  -1.  -1.  -1.  -1.   0.   0.   0.   0.   1.   1.\n",
      "   1.   1.   2.   2.   2.   2. ]\n",
      " [-1.5 -0.5  0.5  1.5 -1.5 -0.5  0.5  1.5 -1.5 -0.5  0.5  1.5 -1.5 -0.5\n",
      "   0.5  1.5 -1.5 -0.5  0.5  1.5]\n",
      " [ 0.   0.   0.   0.   0.   0.   0.   0.   0.   0.   0.   0.   0.   0.\n",
      "   0.   0.   0.   0.   0.   0. ]]\n"
     ]
    }
   ],
   "source": [
    "Qcb = checkerboard_points(5, 4)\n",
    "print(Qcb.shape)\n",
    "print(Qcb)"
   ]
  },
  {
   "cell_type": "code",
   "execution_count": 13,
   "metadata": {},
   "outputs": [
    {
     "data": {
      "image/png": "[encoded data removed]",
      "text/plain": [
       "<Figure size 640x480 with 1 Axes>"
      ]
     },
     "metadata": {},
     "output_type": "display_data"
    }
   ],
   "source": [
    "# Ex 4.4\n",
    "# Apply rotation and translation to the simulated 3D points\n",
    "from scipy.spatial.transform import Rotation\n",
    "\n",
    "Ra = Rotation.from_euler(\"xyz\", [np.pi / 10, 0, 0]).as_matrix()\n",
    "Rb = Rotation.from_euler(\"xyz\", [0, 0, 0]).as_matrix()\n",
    "Rc = Rotation.from_euler(\"xyz\", [-np.pi / 10, 0, 0]).as_matrix()\n",
    "\n",
    "# Simulated 3D points for different views\n",
    "Q_omega = checkerboard_points(10, 20)\n",
    "Qa = Ra @ Q_omega  # 3 x n\n",
    "Qb = Rb @ Q_omega\n",
    "Qc = Rc @ Q_omega\n",
    "\n",
    "cam_pos_a = np.hstack((Ra, t))\n",
    "cam_pos_b = np.hstack((Rb, t))\n",
    "cam_pos_c = np.hstack((Rc, t))\n",
    "\n",
    "qa = projectpoints(K, cam_pos_a, Qa)\n",
    "qb = projectpoints(K, cam_pos_b, Qb)\n",
    "qc = projectpoints(K, cam_pos_c, Qc)\n",
    "\n",
    "# Visualize the 3 views\n",
    "fig = plt.figure()\n",
    "ax = plt.axes(projection=\"3d\")\n",
    "ax.scatter(Qa[0, :], Qa[1, :], Qa[2, :])\n",
    "ax.scatter(Qb[0, :], Qb[1, :], Qb[2, :])\n",
    "ax.scatter(Qc[0, :], Qc[1, :], Qc[2, :])\n",
    "plt.show()"
   ]
  },
  {
   "cell_type": "code",
   "execution_count": 14,
   "metadata": {},
   "outputs": [],
   "source": [
    "#part 2.8 : include normalization in the homography estimation\n",
    "def hest(q1, q2, normalize=False):\n",
    "    \"\"\"\n",
    "    Calculate the homography matrix from n sets of 2D points\n",
    "    q1 : 2 x n, 2D points in the first image\n",
    "    q2 : 2 x n, 2D points in the second image\n",
    "    H : 3 x 3, homography matrix\n",
    "    \"\"\"\n",
    "    if q1.shape[1] != q2.shape[1]:\n",
    "        raise ValueError(\"Number of points in q1 and q2 must be equal\")\n",
    "    if q1.shape[1] < 4:\n",
    "        raise ValueError(\"At least 4 points are required to estimate a homography\")\n",
    "    if q1.shape[0] != 2 or q2.shape[0] != 2:\n",
    "        raise ValueError(\"q1 and q2 must have 2 rows\")\n",
    "\n",
    "    if normalize:\n",
    "        q1, T1 = normalize2d(q1)\n",
    "        q2, T2 = normalize2d(q2)\n",
    "    n = q1.shape[1]\n",
    "    B = []\n",
    "    for i in range(n):\n",
    "        x1, y1 = q1[:, i]\n",
    "        x2, y2 = q2[:, i]\n",
    "        Bi = np.array(\n",
    "            [\n",
    "                [0, -x2, x2 * y1, 0, -y2, y2 * y1, 0, -1, y1],\n",
    "                [x2, 0, -x2 * x1, y2, 0, -y2 * x1, 1, 0, -x1],\n",
    "                [-x2 * y1, x2 * x1, 0, -y2 * y1, y2 * x1, 0, -y1, x1, 0],\n",
    "            ]\n",
    "        )\n",
    "        B.append(Bi)\n",
    "    B = np.array(B).reshape(-1, 9)\n",
    "    U, S, Vt = np.linalg.svd(B)\n",
    "    H = Vt[-1].reshape(3, 3)\n",
    "    if normalize:\n",
    "        H = np.linalg.inv(T1) @ H @ T2\n",
    "    return H"
   ]
  },
  {
   "cell_type": "code",
   "execution_count": 15,
   "metadata": {},
   "outputs": [],
   "source": [
    "# Ex 4.5\n",
    "def estimate_homographies(Q_omega, qs):\n",
    "    \"\"\"\n",
    "    Estimate homographies for each view.\n",
    "\n",
    "    Args:\n",
    "        Q_omega : 3 x (nxm) array of untransformed 3D points\n",
    "        qs : list of arrays corresponding to each view\n",
    "\n",
    "    Returns:\n",
    "        Hs : list of 3x3 homographies for each view\n",
    "    \"\"\"\n",
    "    Hs = []\n",
    "    Q = Q_omega[:2]  # remove 3rd row of zeros\n",
    "    for q in qs:\n",
    "        H = hest(q, Q)  # TODO: why hest(q, Q) instead of hest(Q, q)?\n",
    "        Hs.append(H)\n",
    "    return Hs"
   ]
  },
  {
   "cell_type": "code",
   "execution_count": 16,
   "metadata": {},
   "outputs": [
    {
     "data": {
      "text/plain": [
       "[array([[-8.9836e-02,  3.0692e-16, -2.8820e-17],\n",
       "        [-5.0692e-02, -1.0119e-01, -5.2804e-05],\n",
       "        [-8.6243e-01, -4.8512e-01, -8.9836e-04]]),\n",
       " array([[ 9.0050e-02,  2.2271e-16,  1.2582e-17],\n",
       "        [-1.8348e-16,  9.0050e-02,  6.6805e-17],\n",
       "        [ 8.6448e-01,  4.8627e-01,  9.0050e-04]]),\n",
       " array([[-9.0211e-02,  2.3519e-16,  8.2438e-17],\n",
       "        [ 5.0904e-02, -4.4349e-02,  5.3025e-05],\n",
       "        [-8.6602e-01, -4.8714e-01, -9.0211e-04]])]"
      ]
     },
     "execution_count": 16,
     "metadata": {},
     "output_type": "execute_result"
    }
   ],
   "source": [
    "qs = [qa, qb, qc]\n",
    "Hs = estimate_homographies(Q_omega, qs)\n",
    "Hs"
   ]
  },
  {
   "cell_type": "code",
   "execution_count": 17,
   "metadata": {},
   "outputs": [
    {
     "name": "stdout",
     "output_type": "stream",
     "text": [
      "(3, 200)\n",
      "qa_est [ 8.4886  8.0035  7.5184  7.0333  6.5482  6.063   5.5779  5.0928  4.6077\n",
      "  4.1226  3.6375  3.1524  2.6672  2.1821  1.697   1.2119  0.7268  0.2417\n",
      " -0.2435 -0.7286  7.6262  7.1411  6.656   6.1709  5.6857  5.2006  4.7155\n",
      "  4.2304  3.7453  3.2602  2.775   2.2899  1.8048  1.3197  0.8346  0.3495\n",
      " -0.1357 -0.6208 -1.1059 -1.591   6.7638  6.2787  5.7935  5.3084  4.8233\n",
      "  4.3382  3.8531  3.368   2.8828  2.3977  1.9126  1.4275  0.9424  0.4573\n",
      " -0.0278 -0.513  -0.9981 -1.4832 -1.9683 -2.4534  5.9013  5.4162  4.9311\n",
      "  4.446   3.9609  3.4758  2.9906  2.5055  2.0204  1.5353  1.0502  0.5651\n",
      "  0.08   -0.4052 -0.8903 -1.3754 -1.8605 -2.3456 -2.8307 -3.3159  5.0389\n",
      "  4.5538  4.0687  3.5836  3.0985  2.6133  2.1282  1.6431  1.158   0.6729\n",
      "  0.1878 -0.2974 -0.7825 -1.2676 -1.7527 -2.2378 -2.7229 -3.2081 -3.6932\n",
      " -4.1783  4.1765  3.6914  3.2063  2.7211  2.236   1.7509  1.2658  0.7807\n",
      "  0.2956 -0.1896 -0.6747 -1.1598 -1.6449 -2.13   -2.6151 -3.1002 -3.5854\n",
      " -4.0705 -4.5556 -5.0407  3.3141  2.8289  2.3438  1.8587  1.3736  0.8885\n",
      "  0.4034 -0.0818 -0.5669 -1.052  -1.5371 -2.0222 -2.5073 -2.9924 -3.4776\n",
      " -3.9627 -4.4478 -4.9329 -5.418  -5.9031  2.4516  1.9665  1.4814  0.9963\n",
      "  0.5112  0.0261 -0.4591 -0.9442 -1.4293 -1.9144 -2.3995 -2.8846 -3.3698\n",
      " -3.8549 -4.34   -4.8251 -5.3102 -5.7953 -6.2805 -6.7656  1.5892  1.1041\n",
      "  0.619   0.1339 -0.3513 -0.8364 -1.3215 -1.8066 -2.2917 -2.7768 -3.262\n",
      " -3.7471 -4.2322 -4.7173 -5.2024 -5.6875 -6.1726 -6.6578 -7.1429 -7.628\n",
      "  0.7268  0.2417 -0.2435 -0.7286 -1.2137 -1.6988 -2.1839 -2.669  -3.1541\n",
      " -3.6393 -4.1244 -4.6095 -5.0946 -5.5797 -6.0648 -6.55   -7.0351 -7.5202\n",
      " -8.0053 -8.4904]\n",
      "qa: \n",
      " [[  -59.0125    60.688    155.2229   231.7735   295.0259   348.1685\n",
      "    393.4457   432.4834   466.4882   496.3744   522.8476   546.4608\n",
      "    567.6538   586.7805   604.1291   619.9364   634.3992   647.682\n",
      "    659.9235   671.2416   167.4347   260.5351   334.0623   393.6016\n",
      "    442.7979   484.1311   519.3467   549.7093   576.1575   599.4023\n",
      "    619.9926   638.3584   654.8419   669.7182   683.2115   695.5061\n",
      "    706.7549   717.086    726.6071   735.4101   393.882    460.3822\n",
      "    512.9016   555.4297   590.57     620.0936   645.2476   666.9352\n",
      "    685.8268   702.4302   717.1375   730.256    742.0299   752.6558\n",
      "    762.2939   771.0758   779.1107   786.49     793.2908   799.5786\n",
      "    620.3292   660.2293   691.741    717.2578   738.342    756.0562\n",
      "    771.1486   784.1611   795.4961   805.4581   814.2825   822.1536\n",
      "    829.2179   835.5935   841.3764   846.6455   851.4664   855.894\n",
      "    859.9745   863.7472   846.7764   860.0764   870.5803   879.0859\n",
      "    886.114    892.0187   897.0495   901.387    905.1654   908.486\n",
      "    911.4275   914.0512   916.406    918.5312   920.4588   922.2152\n",
      "    923.8221   925.298    926.6582   927.9157  1073.2236  1059.9236\n",
      "   1049.4197  1040.9141  1033.886   1027.9813  1022.9505  1018.613\n",
      "   1014.8346  1011.514   1008.5725  1005.9488  1003.594   1001.4688\n",
      "    999.5412   997.7848   996.1779   994.702    993.3418   992.0843\n",
      "   1299.6708  1259.7707  1228.259   1202.7422  1181.658   1163.9438\n",
      "   1148.8514  1135.8389  1124.5039  1114.5419  1105.7175  1097.8464\n",
      "   1090.7821  1084.4065  1078.6236  1073.3545  1068.5336  1064.106\n",
      "   1060.0255  1056.2528  1526.118   1459.6178  1407.0984  1364.5703\n",
      "   1329.43    1299.9064  1274.7524  1253.0648  1234.1732  1217.5698\n",
      "   1202.8625  1189.744   1177.9701  1167.3442  1157.7061  1148.9242\n",
      "   1140.8893  1133.51    1126.7092  1120.4214  1752.5653  1659.4649\n",
      "   1585.9377  1526.3984  1477.2021  1435.8689  1400.6533  1370.2907\n",
      "   1343.8425  1320.5977  1300.0074  1281.6416  1265.1581  1250.2818\n",
      "   1236.7885  1224.4939  1213.2451  1202.914   1193.3929  1184.5899\n",
      "   1979.0125  1859.312   1764.7771  1688.2265  1624.9741  1571.8315\n",
      "   1526.5543  1487.5166  1453.5118  1423.6256  1397.1524  1373.5392\n",
      "   1352.3462  1333.2195  1315.8709  1300.0636  1285.6008  1272.318\n",
      "   1260.0765  1248.7584]\n",
      " [-1200.3967  -834.2775  -545.1305  -310.991   -117.5254    45.0179\n",
      "    183.504    302.9056   406.9135   498.3243   579.296    651.5201\n",
      "    716.3415   774.8429   827.9056   876.2544   920.4906   961.1177\n",
      "    998.5599  1033.1777 -1200.3967  -834.2775  -545.1305  -310.991\n",
      "   -117.5254    45.0179   183.504    302.9056   406.9135   498.3243\n",
      "    579.296    651.5201   716.3415   774.8429   827.9056   876.2544\n",
      "    920.4906   961.1177   998.5599  1033.1777 -1200.3967  -834.2775\n",
      "   -545.1305  -310.991   -117.5254    45.0179   183.504    302.9056\n",
      "    406.9135   498.3243   579.296    651.5201   716.3415   774.8429\n",
      "    827.9056   876.2544   920.4906   961.1177   998.5599  1033.1777\n",
      "  -1200.3967  -834.2775  -545.1305  -310.991   -117.5254    45.0179\n",
      "    183.504    302.9056   406.9135   498.3243   579.296    651.5201\n",
      "    716.3415   774.8429   827.9056   876.2544   920.4906   961.1177\n",
      "    998.5599  1033.1777 -1200.3967  -834.2775  -545.1305  -310.991\n",
      "   -117.5254    45.0179   183.504    302.9056   406.9135   498.3243\n",
      "    579.296    651.5201   716.3415   774.8429   827.9056   876.2544\n",
      "    920.4906   961.1177   998.5599  1033.1777 -1200.3967  -834.2775\n",
      "   -545.1305  -310.991   -117.5254    45.0179   183.504    302.9056\n",
      "    406.9135   498.3243   579.296    651.5201   716.3415   774.8429\n",
      "    827.9056   876.2544   920.4906   961.1177   998.5599  1033.1777\n",
      "  -1200.3967  -834.2775  -545.1305  -310.991   -117.5254    45.0179\n",
      "    183.504    302.9056   406.9135   498.3243   579.296    651.5201\n",
      "    716.3415   774.8429   827.9056   876.2544   920.4906   961.1177\n",
      "    998.5599  1033.1777 -1200.3967  -834.2775  -545.1305  -310.991\n",
      "   -117.5254    45.0179   183.504    302.9056   406.9135   498.3243\n",
      "    579.296    651.5201   716.3415   774.8429   827.9056   876.2544\n",
      "    920.4906   961.1177   998.5599  1033.1777 -1200.3967  -834.2775\n",
      "   -545.1305  -310.991   -117.5254    45.0179   183.504    302.9056\n",
      "    406.9135   498.3243   579.296    651.5201   716.3415   774.8429\n",
      "    827.9056   876.2544   920.4906   961.1177   998.5599  1033.1777\n",
      "  -1200.3967  -834.2775  -545.1305  -310.991   -117.5254    45.0179\n",
      "    183.504    302.9056   406.9135   498.3243   579.296    651.5201\n",
      "    716.3415   774.8429   827.9056   876.2544   920.4906   961.1177\n",
      "    998.5599  1033.1777]]\n",
      "qa: \n",
      " [[ 4.7624e-02  5.0511e-02  5.3770e-02  5.7479e-02  6.1737e-02  6.6677e-02\n",
      "   7.2475e-02  7.9379e-02  8.7736e-02  9.8061e-02  1.1114e-01  1.2824e-01\n",
      "   1.5157e-01  1.8526e-01  2.3822e-01  3.3358e-01  5.5624e-01  1.6729e+00\n",
      "  -1.6605e+00 -5.5487e-01  4.1230e-02  4.4031e-02  4.7240e-02  5.0954e-02\n",
      "   5.5301e-02  6.0459e-02  6.6679e-02  7.4326e-02  8.3953e-02  9.6445e-02\n",
      "   1.1331e-01  1.3731e-01  1.7422e-01  2.3826e-01  3.7675e-01  8.9974e-01\n",
      "  -2.3179e+00 -5.0651e-01 -2.8432e-01 -1.9763e-01  3.3205e-02  3.5770e-02\n",
      "   3.8766e-02  4.2308e-02  4.6564e-02  5.1771e-02  5.8289e-02  6.6684e-02\n",
      "   7.7906e-02  9.3668e-02  1.1743e-01  1.5733e-01  2.3832e-01  4.9116e-01\n",
      "  -8.0645e+00 -4.3783e-01 -2.2502e-01 -1.5142e-01 -1.1410e-01 -9.1542e-02\n",
      "   2.2835e-02  2.4880e-02  2.7327e-02  3.0309e-02  3.4021e-02  3.8770e-02\n",
      "   4.5059e-02  5.3783e-02  6.6696e-02  8.7771e-02  1.2831e-01  2.3847e-01\n",
      "   1.6854e+00 -3.3259e-01 -1.5136e-01 -9.7975e-02 -7.2429e-02 -5.7449e-02\n",
      "  -4.7604e-02 -4.0639e-02  8.9142e-03  9.8639e-03  1.1040e-02  1.2534e-02\n",
      "   1.4497e-02  1.7188e-02  2.1106e-02  2.7337e-02  3.8790e-02  6.6756e-02\n",
      "   2.3923e-01 -1.5106e-01 -5.7405e-02 -3.5436e-02 -2.5628e-02 -2.0072e-02\n",
      "  -1.6496e-02 -1.4002e-02 -1.2162e-02 -1.0750e-02 -1.0755e-02 -1.2168e-02\n",
      "  -1.4010e-02 -1.6507e-02 -2.0088e-02 -2.5654e-02 -3.5486e-02 -5.7537e-02\n",
      "  -1.5198e-01  2.3697e-01  6.6578e-02  3.8730e-02  2.7307e-02  2.1088e-02\n",
      "   1.7176e-02  1.4489e-02  1.2528e-02  1.1035e-02  9.8600e-03  8.9111e-03\n",
      "  -4.0661e-02 -4.7634e-02 -5.7493e-02 -7.2499e-02 -9.8103e-02 -1.5167e-01\n",
      "  -3.3408e-01  1.6484e+00  2.3772e-01  1.2810e-01  8.7668e-02  6.6637e-02\n",
      "   5.3744e-02  4.5032e-02  3.8750e-02  3.4006e-02  3.0297e-02  2.7317e-02\n",
      "   2.4871e-02  2.2828e-02 -9.1609e-02 -1.1421e-01 -1.5161e-01 -2.2543e-01\n",
      "  -4.3937e-01 -8.6207e+00  4.8924e-01  2.3787e-01  1.5713e-01  1.1732e-01\n",
      "   9.3598e-02  7.7857e-02  6.6649e-02  5.8261e-02  5.1749e-02  4.6546e-02\n",
      "   4.2294e-02  3.8754e-02  3.5760e-02  3.3196e-02 -1.9785e-01 -2.8478e-01\n",
      "  -5.0798e-01 -2.3490e+00  8.9514e-01  3.7594e-01  2.3793e-01  1.7404e-01\n",
      "   1.3720e-01  1.1323e-01  9.6392e-02  8.3913e-02  7.4294e-02  6.6654e-02\n",
      "   6.0439e-02  5.5284e-02  5.0939e-02  4.7227e-02  4.4020e-02  4.1220e-02\n",
      "  -5.5624e-01 -1.6729e+00  1.6605e+00  5.5487e-01  3.3309e-01  2.3797e-01\n",
      "   1.8511e-01  1.5146e-01  1.2817e-01  1.1108e-01  9.8018e-02  8.7702e-02\n",
      "   7.9351e-02  7.2452e-02  6.6657e-02  6.1720e-02  5.7464e-02  5.3757e-02\n",
      "   5.0499e-02  4.7614e-02]\n",
      " [ 1.4012e-01  1.3597e-01  1.3128e-01  1.2595e-01  1.1982e-01  1.1272e-01\n",
      "   1.0438e-01  9.4456e-02  8.2439e-02  6.7593e-02  4.8788e-02  2.4195e-02\n",
      "  -9.3435e-03 -5.7795e-02 -1.3395e-01 -2.7107e-01 -5.9124e-01 -2.1968e+00\n",
      "   2.5963e+00  1.0065e+00  1.4932e-01  1.4529e-01  1.4067e-01  1.3533e-01\n",
      "   1.2908e-01  1.2167e-01  1.1272e-01  1.0173e-01  8.7887e-02  6.9925e-02\n",
      "   4.5683e-02  1.1171e-02 -4.1896e-02 -1.3398e-01 -3.3310e-01 -1.0851e+00\n",
      "   3.5413e+00  9.3687e-01  6.1740e-01  4.9275e-01  1.6086e-01  1.5717e-01\n",
      "   1.5286e-01  1.4777e-01  1.4165e-01  1.3417e-01  1.2480e-01  1.1273e-01\n",
      "   9.6595e-02  7.3934e-02  3.9779e-02 -1.7592e-02 -1.3403e-01 -4.9752e-01\n",
      "   1.1803e+01  8.3804e-01  5.3210e-01  4.2629e-01  3.7264e-01  3.4020e-01\n",
      "   1.7578e-01  1.7284e-01  1.6932e-01  1.6503e-01  1.5970e-01  1.5287e-01\n",
      "   1.4384e-01  1.3130e-01  1.1274e-01  8.2448e-02  2.4176e-02 -1.3415e-01\n",
      "  -2.2137e+00  6.8662e-01  4.2614e-01  3.4941e-01  3.1270e-01  2.9117e-01\n",
      "   2.7702e-01  2.6701e-01  1.9580e-01  1.9444e-01  1.9275e-01  1.9061e-01\n",
      "   1.8779e-01  1.8393e-01  1.7830e-01  1.6936e-01  1.5292e-01  1.1279e-01\n",
      "  -1.3477e-01  4.2540e-01  2.9099e-01  2.5946e-01  2.4538e-01  2.3741e-01\n",
      "   2.3227e-01  2.2869e-01  2.2605e-01  2.2403e-01  2.2410e-01  2.2613e-01\n",
      "   2.2879e-01  2.3239e-01  2.3755e-01  2.4557e-01  2.5974e-01  2.9152e-01\n",
      "   4.2763e-01 -1.3293e-01  1.1264e-01  1.5278e-01  1.6924e-01  1.7820e-01\n",
      "   1.8384e-01  1.8771e-01  1.9054e-01  1.9269e-01  1.9439e-01  1.9575e-01\n",
      "   2.6712e-01  2.7715e-01  2.9134e-01  3.1294e-01  3.4979e-01  4.2689e-01\n",
      "   6.8942e-01 -2.1638e+00 -1.3354e-01  2.4235e-02  8.2420e-02  1.1269e-01\n",
      "   1.3125e-01  1.4378e-01  1.5283e-01  1.5965e-01  1.6499e-01  1.6928e-01\n",
      "   1.7280e-01  1.7574e-01  3.4041e-01  3.7292e-01  4.2674e-01  5.3295e-01\n",
      "   8.4078e-01  1.2612e+01 -4.9534e-01 -1.3366e-01 -1.7496e-02  3.9796e-02\n",
      "   7.3923e-02  9.6571e-02  1.1270e-01  1.2477e-01  1.3414e-01  1.4162e-01\n",
      "   1.4774e-01  1.5284e-01  1.5714e-01  1.6083e-01  4.9324e-01  6.1831e-01\n",
      "   9.3942e-01  3.5880e+00 -1.0792e+00 -3.3226e-01 -1.3371e-01 -4.1795e-02\n",
      "   1.1208e-02  4.5692e-02  6.9919e-02  8.7873e-02  1.0171e-01  1.1270e-01\n",
      "   1.2164e-01  1.2906e-01  1.3531e-01  1.4065e-01  1.4527e-01  1.4929e-01\n",
      "   1.0088e+00  2.6152e+00 -2.1802e+00 -5.8963e-01 -2.7058e-01 -1.3374e-01\n",
      "  -5.7699e-02 -9.2976e-03  2.4215e-02  4.8793e-02  6.7589e-02  8.2429e-02\n",
      "   9.4443e-02  1.0437e-01  1.1271e-01  1.1981e-01  1.2593e-01  1.3126e-01\n",
      "   1.3595e-01  1.4010e-01]]\n",
      "RMSE:  883.1084377261193\n",
      "RMSE:  902.2225410500663\n",
      "RMSE:  998.7673644727909\n"
     ]
    }
   ],
   "source": [
    "Q_omega_h = pi(Q_omega[:2])  # Q_omega without z, in homogenous\n",
    "\n",
    "print(Q_omega_h.shape)\n",
    "qa_est = Hs[0] @ Q_omega_h\n",
    "qb_est = Hs[1] @ Q_omega_h\n",
    "qc_est = Hs[2] @ Q_omega_h\n",
    "\n",
    "print(\"qa_est\", qa_est[-1])\n",
    "qa_est = qa_est[:2] / qa_est[-1]\n",
    "qb_est = qb_est[:2] / qb_est[-1]\n",
    "qc_est = qc_est[:2] / qc_est[-1]\n",
    "\n",
    "# Compute reprojection error\n",
    "print(f\"qa: \\n {qa}\")\n",
    "print(f\"qa: \\n {qa_est}\")\n",
    "\n",
    "print(\"RMSE: \", compute_rmse(qa, qa_est))\n",
    "print(\"RMSE: \", compute_rmse(qb, qb_est))\n",
    "print(\"RMSE: \", compute_rmse(qc, qc_est))"
   ]
  },
  {
   "cell_type": "code",
   "execution_count": 18,
   "metadata": {},
   "outputs": [],
   "source": [
    "# Ex 4.6\n",
    "# Estimate b vector\n",
    "def form_vi(H, a, b):\n",
    "    \"\"\"\n",
    "    Form 1x6 vector vi using H and indices alpha, beta.\n",
    "\n",
    "    Args:\n",
    "        H : 3x3 homography\n",
    "        a, b : indices alpha, beta\n",
    "\n",
    "    Returns:\n",
    "        vi : 1x6 vector\n",
    "    \"\"\"\n",
    "    # Use zero-indexing here. Notes uses 1-indexing.\n",
    "    a = a - 1\n",
    "    b = b - 1\n",
    "    vi = np.array(\n",
    "        [\n",
    "            H[0, a] * H[0, b],\n",
    "            H[0, a] * H[1, b] + H[1, a] * H[0, b],\n",
    "            H[1, a] * H[1, b],\n",
    "            H[2, a] * H[0, b] + H[0, a] * H[2, b],\n",
    "            H[2, a] * H[1, b] + H[1, a] * H[2, b],\n",
    "            H[2, a] * H[2, b],\n",
    "        ]\n",
    "    )\n",
    "    vi = vi.reshape(1, 6)\n",
    "    return vi\n",
    "\n",
    "\n",
    "def estimate_b(Hs):\n",
    "    \"\"\"\n",
    "    Estimate b matrix used Zhang's method for camera calibration.\n",
    "\n",
    "    Args:\n",
    "        Hs : list of 3x3 homographies for each view\n",
    "\n",
    "    Returns:\n",
    "        b : 6x1 vector\n",
    "    \"\"\"\n",
    "    V = []  # coefficient matrix\n",
    "    # Create constraints in matrix form\n",
    "    for H in Hs:\n",
    "        vi_11 = form_vi(H, 1, 1)\n",
    "        vi_12 = form_vi(H, 1, 2)\n",
    "        vi_22 = form_vi(H, 2, 2)\n",
    "        v = np.vstack((vi_12, vi_11 - vi_22))  # 2 x 6\n",
    "        V.append(v)\n",
    "    # V = np.array(V) creates the wrong array shape\n",
    "    V = np.vstack(V)  # 2n x 6\n",
    "    U, S, bt = np.linalg.svd(V.T @ V)\n",
    "    b = bt[-1].reshape(6, 1)\n",
    "    return b\n"
   ]
  },
  {
   "cell_type": "code",
   "execution_count": 19,
   "metadata": {},
   "outputs": [],
   "source": [
    "b = estimate_b(Hs)"
   ]
  },
  {
   "cell_type": "code",
   "execution_count": 20,
   "metadata": {},
   "outputs": [],
   "source": [
    "def b_from_B(B):\n",
    "    \"\"\"\n",
    "    Returns the 6x1 vector b from the 3x3 matrix B.\n",
    "\n",
    "    b = [B11 B12 B22 B13 B23 B33].T\n",
    "    \"\"\"\n",
    "    if B.shape != (3, 3):\n",
    "        raise ValueError(\"B must be a 3x3 matrix\")\n",
    "\n",
    "    b = np.array((B[0, 0], B[0, 1], B[1, 1], B[0, 2], B[1, 2], B[2, 2]))\n",
    "    b = b.reshape(6, 1)\n",
    "    return b\n"
   ]
  },
  {
   "cell_type": "code",
   "execution_count": 21,
   "metadata": {},
   "outputs": [
    {
     "name": "stdout",
     "output_type": "stream",
     "text": [
      "b_est:\n",
      " [[-9.9685e-01]\n",
      " [-8.4149e-14]\n",
      " [-5.7482e-14]\n",
      " [ 7.8880e-02]\n",
      " [ 8.6325e-15]\n",
      " [-8.2167e-03]]\n",
      "b_true:\n",
      " [[ 4.5183e-07]\n",
      " [ 0.0000e+00]\n",
      " [ 4.5183e-07]\n",
      " [-4.3376e-04]\n",
      " [-2.4399e-04]\n",
      " [ 1.0000e+00]]\n"
     ]
    }
   ],
   "source": [
    "B_true = np.linalg.inv(K.T) @ np.linalg.inv(K)\n",
    "b_true = b_from_B(B_true)\n",
    "\n",
    "print(\"b_est:\\n\", b / np.linalg.norm(b))\n",
    "print(\"b_true:\\n\", b_true / np.linalg.norm(b_true))"
   ]
  },
  {
   "cell_type": "code",
   "execution_count": 22,
   "metadata": {},
   "outputs": [
    {
     "name": "stdout",
     "output_type": "stream",
     "text": [
      "[[1.6459]]\n",
      "1.6459416202323138\n"
     ]
    }
   ],
   "source": [
    "# Check: v11 b_true == h1.T B_true h1, first -> zero indexing\n",
    "h1 = Hs[0][:, 0]\n",
    "v11 = form_vi(Hs[0], 1, 1)\n",
    "\n",
    "print(v11 @ b_true)\n",
    "print(h1.T @ B_true @ h1)\n",
    "# The 2 values should be the same."
   ]
  },
  {
   "cell_type": "code",
   "execution_count": 23,
   "metadata": {},
   "outputs": [
    {
     "name": "stdout",
     "output_type": "stream",
     "text": [
      "[[0.9259]]\n",
      "0.9258501508185188\n"
     ]
    }
   ],
   "source": [
    "# Check: v12 b_true == h1.T B_true h2\n",
    "h1 = Hs[0][:, 0]\n",
    "h2 = Hs[0][:, 1]\n",
    "v12 = form_vi(Hs[0], 1, 2)\n",
    "\n",
    "print(v12 @ b_true)\n",
    "print(h1.T @ B_true @ h2)\n",
    "# The 2 values should be the same."
   ]
  },
  {
   "cell_type": "code",
   "execution_count": 24,
   "metadata": {},
   "outputs": [
    {
     "name": "stdout",
     "output_type": "stream",
     "text": [
      "[[0.5208]]\n",
      "0.5207952117300167\n"
     ]
    }
   ],
   "source": [
    "# Check: v22 b_true == h1.T B_true h2\n",
    "h2 = Hs[0][:, 1]\n",
    "v22 = form_vi(Hs[0], 2, 2)\n",
    "\n",
    "print(v22 @ b_true)\n",
    "print(h2.T @ B_true @ h2)\n",
    "# The 2 values should be the same."
   ]
  },
  {
   "cell_type": "code",
   "execution_count": 25,
   "metadata": {},
   "outputs": [],
   "source": [
    "# Ex 4.7\n",
    "# Estimate intrinsic matrix using equations from Zhang's paper\n",
    "def estimate_intrinsics(Hs):\n",
    "    \"\"\"\n",
    "    Estimate intrinsic matrix using Zhang's method for camera calibration.\n",
    "\n",
    "    Args:\n",
    "        Hs : list of 3x3 homographies for each view\n",
    "\n",
    "    Returns:\n",
    "        K : 3x3 intrinsic matrix\n",
    "    \"\"\"\n",
    "    b = estimate_b(Hs)\n",
    "    B11, B12, B22, B13, B23, B33 = b\n",
    "    # Appendix B of Zhang's paper\n",
    "    v0 = (B12 * B13 - B11 * B23) / (B11 * B22 - B12**2)\n",
    "    lambda_ = B33 - (B13**2 + v0 * (B12 * B13 - B11 * B23)) / B11\n",
    "    alpha = np.sqrt(lambda_ / B11)\n",
    "    beta = np.sqrt(lambda_ * B11 / (B11 * B22 - B12**2))\n",
    "    gamma = -B12 * alpha**2 * beta / lambda_\n",
    "    u0 = lambda_ * v0 / beta - B13 * alpha**2 / lambda_\n",
    "    # above values are sequences [value], so using [0] below is needed\n",
    "    K = np.array([[alpha[0], gamma[0], u0[0]], [0, beta[0], v0[0]], [0, 0, 1]])\n",
    "    return K\n"
   ]
  },
  {
   "cell_type": "code",
   "execution_count": 26,
   "metadata": {},
   "outputs": [
    {
     "name": "stdout",
     "output_type": "stream",
     "text": [
      "K_est:\n",
      " [[ 4.4510e-02 -1.5647e-08  7.9130e-02]\n",
      " [ 0.0000e+00  1.8536e+05  3.4338e-02]\n",
      " [ 0.0000e+00  0.0000e+00  1.0000e+00]]\n",
      "K_true:\n",
      " [[1000.    0.  960.]\n",
      " [   0. 1000.  540.]\n",
      " [   0.    0.    1.]]\n"
     ]
    }
   ],
   "source": [
    "K_est = estimate_intrinsics(Hs)\n",
    "print(\"K_est:\\n\", K_est)\n",
    "print(\"K_true:\\n\", K)\n",
    "# The estimated K should be close to the true K."
   ]
  },
  {
   "cell_type": "code",
   "execution_count": 27,
   "metadata": {},
   "outputs": [],
   "source": [
    "# Ex 4.8\n",
    "# Estimate extrinsic parameters using equations from the slides\n",
    "def estimate_extrinsics(K, Hs):\n",
    "    \"\"\"\n",
    "    Estimate extrinsic parameters using Zhang's method for camera calibration.\n",
    "\n",
    "    Args:\n",
    "        K : 3x3 intrinsic matrix\n",
    "        Hs : list of 3x3 homographies for each view\n",
    "\n",
    "    Returns:\n",
    "        Rs : list of 3x3 rotation matrices\n",
    "        ts : list of 3x1 translation vectors\n",
    "    \"\"\"\n",
    "    Kinv = np.linalg.inv(K)\n",
    "    Rs = []\n",
    "    ts = []\n",
    "    for H in Hs:  # H = [h1|h2|h3]\n",
    "        h1 = H[:, 0]\n",
    "        h2 = H[:, 1]\n",
    "        h3 = H[:, 2]\n",
    "        lambda_ = np.linalg.norm(Kinv @ h1, 2)\n",
    "        r1 = 1 / lambda_ * Kinv @ h1  # (3,)\n",
    "        r2 = 1 / lambda_ * Kinv @ h2\n",
    "        r3 = np.cross(r1, r2)\n",
    "        t = np.array(1 / lambda_ * Kinv @ h3).reshape(3, 1)  # 3 x 1\n",
    "        R = np.vstack((r1, r2, r3)).T  # 3 x 3 [r1|r2|r3]\n",
    "        Rs.append(R)\n",
    "        ts.append(t)\n",
    "    Rs = np.array(Rs)\n",
    "    ts = np.array(ts)\n",
    "    return Rs, ts\n"
   ]
  },
  {
   "cell_type": "code",
   "execution_count": 28,
   "metadata": {},
   "outputs": [
    {
     "name": "stdout",
     "output_type": "stream",
     "text": [
      "Rs_true:\n",
      " [[[ 1.      0.      0.    ]\n",
      "  [ 0.      0.9511 -0.309 ]\n",
      "  [ 0.      0.309   0.9511]]\n",
      "\n",
      " [[ 1.      0.      0.    ]\n",
      "  [ 0.      1.      0.    ]\n",
      "  [ 0.      0.      1.    ]]\n",
      "\n",
      " [[ 1.     -0.      0.    ]\n",
      "  [ 0.      0.9511  0.309 ]\n",
      "  [-0.     -0.309   0.9511]]]\n",
      "Rs:\n",
      " [[[-4.9026e-01  8.7158e-01 -3.4537e-07]\n",
      "  [-1.1492e-07 -4.6091e-07 -1.0000e+00]\n",
      "  [-8.7158e-01 -4.9026e-01  3.2613e-07]]\n",
      "\n",
      " [[ 4.9026e-01 -8.7158e-01 -4.2690e-07]\n",
      "  [-1.6146e-07  3.9898e-07 -1.0000e+00]\n",
      "  [ 8.7158e-01  4.9026e-01  5.4881e-08]]\n",
      "\n",
      " [[-4.9026e-01  8.7158e-01 -3.4537e-07]\n",
      "  [ 4.3785e-07 -1.4997e-07 -1.0000e+00]\n",
      "  [-8.7158e-01 -4.9026e-01 -3.0809e-07]]]\n"
     ]
    }
   ],
   "source": [
    "Rs, ts = estimate_extrinsics(K_est, Hs)\n",
    "print(\"Rs_true:\\n\", np.array((Ra, Rb, Rc)))\n",
    "print(\"Rs:\\n\", Rs)"
   ]
  },
  {
   "cell_type": "code",
   "execution_count": 29,
   "metadata": {},
   "outputs": [
    {
     "name": "stdout",
     "output_type": "stream",
     "text": [
      "ts:\n",
      " [[[ 1.6140e-03]\n",
      "  [-1.1971e-10]\n",
      "  [-9.0789e-04]]\n",
      "\n",
      " [[-1.6140e-03]\n",
      "  [-1.6819e-10]\n",
      "  [ 9.0789e-04]]\n",
      "\n",
      " [[ 1.6140e-03]\n",
      "  [ 4.5609e-10]\n",
      "  [-9.0789e-04]]]\n"
     ]
    }
   ],
   "source": [
    "print(\"ts:\\n\", ts)  # TODO: why [0,0,1] instead of [0,0,0]?\n"
   ]
  },
  {
   "cell_type": "code",
   "execution_count": 30,
   "metadata": {},
   "outputs": [],
   "source": [
    "# Compiling functions\n",
    "def calibrate_camera(qs, Q):\n",
    "    \"\"\"\n",
    "    Calibrate camera using Zhang's method for camera calibration.\n",
    "\n",
    "    Args:\n",
    "        qs : list of arrays corresponding to each view\n",
    "        Q : 3 x (nxm) array of untransformed 3D points\n",
    "\n",
    "    Returns:\n",
    "        K : 3x3 intrinsic matrix\n",
    "        Rs : list of 3x3 rotation matrices\n",
    "        ts : list of 3x1 translation vectors\n",
    "    \"\"\"\n",
    "    Hs = estimate_homographies(Q, qs)\n",
    "    K = estimate_intrinsics(Hs)\n",
    "    Rs, ts = estimate_extrinsics(K, Hs)\n",
    "    return K, Rs, ts\n"
   ]
  },
  {
   "cell_type": "code",
   "execution_count": 31,
   "metadata": {},
   "outputs": [
    {
     "name": "stdout",
     "output_type": "stream",
     "text": [
      "K:\n",
      " [[ 4.4510e-02 -1.5647e-08  7.9130e-02]\n",
      " [ 0.0000e+00  1.8536e+05  3.4338e-02]\n",
      " [ 0.0000e+00  0.0000e+00  1.0000e+00]]\n",
      "RMSE:  1603855.2559757286\n",
      "RMSE:  902.2225410500663\n",
      "RMSE:  1603835.9615129372\n"
     ]
    }
   ],
   "source": [
    "# Ex 4.9\n",
    "# Use the compiled function\n",
    "K_est, Rs, ts = calibrate_camera(qs, Q_omega)\n",
    "print(\"K:\\n\", K_est)\n",
    "\n",
    "cam_pos_a = np.hstack((Rs[0], ts[0]))\n",
    "cam_pos_b = np.hstack((Rs[1], ts[1]))\n",
    "cam_pos_c = np.hstack((Rs[2], ts[2]))\n",
    "\n",
    "qa_est = projectpoints(K_est, cam_pos_a, Qa)\n",
    "qb_est = projectpoints(K_est, cam_pos_b, Qb)\n",
    "qc_est = projectpoints(K_est, cam_pos_c, Qc)\n",
    "\n",
    "# Compute reprojection error\n",
    "print(\"RMSE: \", compute_rmse(qa, qa_est))\n",
    "print(\"RMSE: \", compute_rmse(qb, qb_est))\n",
    "print(\"RMSE: \", compute_rmse(qc, qc_est))"
   ]
  },
  {
   "cell_type": "code",
   "execution_count": 32,
   "metadata": {},
   "outputs": [
    {
     "name": "stdout",
     "output_type": "stream",
     "text": [
      "K_est:\n",
      " [[0.0447    nan    nan]\n",
      " [0.        nan 0.0152]\n",
      " [0.     0.     1.    ]]\n",
      "K_true:\n",
      " [[1000.    0.  960.]\n",
      " [   0. 1000.  540.]\n",
      " [   0.    0.    1.]]\n"
     ]
    },
    {
     "name": "stderr",
     "output_type": "stream",
     "text": [
      "/var/folders/02/ft7cs0yd1n361rhk5nqxspmc0000gn/T/ipykernel_25049/2657426383.py:19: RuntimeWarning: invalid value encountered in sqrt\n",
      "  beta = np.sqrt(lambda_ * B11 / (B11 * B22 - B12**2))\n"
     ]
    }
   ],
   "source": [
    "# Ex 4.10\n",
    "# Add noise to the 2D points\n",
    "mu = 0\n",
    "sd = 1\n",
    "qa_noise = qa + np.random.normal(mu, sd, qa.shape)\n",
    "qb_noise = qb + np.random.normal(mu, sd, qb.shape)\n",
    "qc_noise = qc + np.random.normal(mu, sd, qc.shape)\n",
    "\n",
    "qs_noise = [qa_noise, qb_noise, qc_noise]\n",
    "K_est, Rs, ts = calibrate_camera(qs_noise, Q_omega)\n",
    "print(\"K_est:\\n\", K_est)  # should be almost correct\n",
    "print(\"K_true:\\n\", K)"
   ]
  }
 ],
 "metadata": {
  "kernelspec": {
   "display_name": "Python 3",
   "language": "python",
   "name": "python3"
  },
  "language_info": {
   "codemirror_mode": {
    "name": "ipython",
    "version": 3
   },
   "file_extension": ".py",
   "mimetype": "text/x-python",
   "name": "python",
   "nbconvert_exporter": "python",
   "pygments_lexer": "ipython3",
   "version": "3.10.6"
  },
  "orig_nbformat": 4
 },
 "nbformat": 4,
 "nbformat_minor": 2
}
